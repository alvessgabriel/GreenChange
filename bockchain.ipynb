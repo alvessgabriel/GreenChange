{
 "cells": [
  {
   "cell_type": "code",
   "execution_count": 1,
   "id": "fc5cafd0-4fd4-4acb-8664-349bffea7211",
   "metadata": {},
   "outputs": [
    {
     "name": "stderr",
     "output_type": "stream",
     "text": [
      "2025-09-14 20:24:11,947 - INFO - Connected to Ethereum Sepolia via Infura: https://sepolia.infura.io/v3/3299ae9dabcc4f13962bbfc76ad2a5ca\n",
      "2025-09-14 20:24:12,153 - INFO - Latest block number: 9204922\n",
      "2025-09-14 20:24:12,154 - INFO - Calculated 20.00 kg CO2 credits for 100.0 km\n",
      "2025-09-14 20:24:12,154 - INFO - CO2 Credits Earned: 20.0 kg\n",
      "2025-09-14 20:24:12,154 - ERROR - Main execution failed: name 'uuid' is not defined\n"
     ]
    }
   ],
   "source": [
    "from web3 import Web3\n",
    "import logging\n",
    "\n",
    "# Setup logging\n",
    "logging.basicConfig(level=logging.INFO, format='%(asctime)s - %(levelname)s - %(message)s')\n",
    "logger = logging.getLogger(__name__)\n",
    "\n",
    "# Your Infura API key\n",
    "INFURA_API_KEY = \"3299ae9dabcc4f13962bbfc76ad2a5ca\"\n",
    "\n",
    "# Mock values\n",
    "MOCK_USER_ADDRESS = \"0x1234567890abcdef1234567890abcdef12345678\"\n",
    "\n",
    "# Connect to Ethereum Sepolia testnet via Infura\n",
    "w3 = Web3(Web3.HTTPProvider(f\"https://sepolia.infura.io/v3/{INFURA_API_KEY}\", request_kwargs={'timeout': 30}))\n",
    "\n",
    "if w3.is_connected():\n",
    "    logger.info(f\"Connected to Ethereum Sepolia via Infura: {w3.provider.endpoint_uri}\")\n",
    "    latest_block = w3.eth.block_number\n",
    "    logger.info(f\"Latest block number: {latest_block}\")\n",
    "else:\n",
    "    logger.warning(\"Failed to connect to Sepolia. Proceeding with mock data only.\")\n",
    "\n",
    "def calculate_co2_credits(distance_km: float) -> float:\n",
    "    \"\"\"Calculate CO2 credits for EV charging vs combustion vehicle.\"\"\"\n",
    "    COMBUSTION_EMISSIONS_FACTOR = 0.25  # kg CO2/km for gasoline car\n",
    "    EV_EMISSIONS_FACTOR = 0.05  # kg CO2/km for EV (grid emissions)\n",
    "    credits = distance_km * (COMBUSTION_EMISSIONS_FACTOR - EV_EMISSIONS_FACTOR)\n",
    "    logger.info(f\"Calculated {credits:.2f} kg CO2 credits for {distance_km} km\")\n",
    "    return round(credits, 2)\n",
    "\n",
    "def mock_mint_carbon_credit_nft(co2_credits: float, user_address: str) -> str:\n",
    "    \"\"\"Simulate NFT minting locally.\"\"\"\n",
    "    token_id = int(uuid.uuid4().int & (1<<256)-1)\n",
    "    logger.info(f\"Mock NFT minted! Token ID: {token_id}, Owner: {user_address}, CO2 Credits: {co2_credits} kg\")\n",
    "    return f\"0xMockTxHash{token_id}\"\n",
    "\n",
    "def main():\n",
    "    try:\n",
    "        distance_km = 100.0\n",
    "        co2_credits = calculate_co2_credits(distance_km)\n",
    "        logger.info(f\"CO2 Credits Earned: {co2_credits} kg\")\n",
    "\n",
    "        tx_hash = mock_mint_carbon_credit_nft(co2_credits, MOCK_USER_ADDRESS)\n",
    "        if tx_hash:\n",
    "            logger.info(f\"Mock NFT minted successfully! Tx Hash: {tx_hash}\")\n",
    "        else:\n",
    "            logger.error(\"Mock NFT minting failed\")\n",
    "    except Exception as e:\n",
    "        logger.error(f\"Main execution failed: {e}\")\n",
    "\n",
    "if __name__ == \"__main__\":\n",
    "    main()"
   ]
  },
  {
   "cell_type": "code",
   "execution_count": null,
   "id": "d6a5c1ee-c860-472a-a30a-27afa49d5050",
   "metadata": {},
   "outputs": [],
   "source": []
  }
 ],
 "metadata": {
  "kernelspec": {
   "display_name": "Python (co2_proj)",
   "language": "python",
   "name": "co2_proj"
  },
  "language_info": {
   "codemirror_mode": {
    "name": "ipython",
    "version": 3
   },
   "file_extension": ".py",
   "mimetype": "text/x-python",
   "name": "python",
   "nbconvert_exporter": "python",
   "pygments_lexer": "ipython3",
   "version": "3.11.5"
  }
 },
 "nbformat": 4,
 "nbformat_minor": 5
}
